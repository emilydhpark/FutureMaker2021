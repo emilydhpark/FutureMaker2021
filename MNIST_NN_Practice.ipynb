{
  "nbformat": 4,
  "nbformat_minor": 0,
  "metadata": {
    "colab": {
      "name": "MNIST NN Practice.ipynb",
      "provenance": [],
      "authorship_tag": "ABX9TyM7Rv6N2fP721Hp/3V7zipX",
      "include_colab_link": true
    },
    "kernelspec": {
      "name": "python3",
      "display_name": "Python 3"
    },
    "language_info": {
      "name": "python"
    }
  },
  "cells": [
    {
      "cell_type": "markdown",
      "metadata": {
        "id": "view-in-github",
        "colab_type": "text"
      },
      "source": [
        "<a href=\"https://colab.research.google.com/github/mlapark/FutureMaker2021/blob/main/MNIST_NN_Practice.ipynb\" target=\"_parent\"><img src=\"https://colab.research.google.com/assets/colab-badge.svg\" alt=\"Open In Colab\"/></a>"
      ]
    },
    {
      "cell_type": "code",
      "metadata": {
        "colab": {
          "base_uri": "https://localhost:8080/",
          "height": 266
        },
        "id": "Iecmkm072LSz",
        "outputId": "1ada9534-0d75-467b-db5c-9d316092071e"
      },
      "source": [
        "import keras\n",
        "from keras.datasets import mnist\n",
        "\n",
        "# FIX ERROR LATER\n",
        "\n",
        "# Setup train and test splits\n",
        "(x_train, y_train), (x_test, y_test) = mnist.load_data()\n",
        "print(\"Training label shape: \", y_train.shape) # (60000,) -- 60000 numbers (all 0-9)\n",
        "print(\"First 5 training labels: \", y_train[:5]) # [5, 0, 4, 1, 9]\n",
        "\n",
        "# Convert to \"one-hot\" vectors using the to_categorical function\n",
        "num_classes = 10\n",
        "y_train = keras.utils.to_categorical(y_train, num_classes)\n",
        "y_test = keras.utils.to_categorical(y_test, num_classes)\n",
        "print(\"First 5 training lables as one-hot encoded vectors:\\n\", y_train[:5])\n",
        "\n",
        "# This is the one-hot version of: [5, 0, 4, 1, 9]\n",
        "\"\"\"\n",
        "[[0, 0, 0, 0, 0, 1, 0, 0, 0, 0]\n",
        " [1, 0, 0, 0, 0, 0, 0, 0, 0, 0]\n",
        " [0, 0, 0, 0, 1, 0, 0, 0, 0, 0]\n",
        " [0, 1, 0, 0, 0, 0, 0, 0, 0, 0]\n",
        " [0, 0, 0, 0, 0, 0, 0, 0, 0, 1]]\n",
        "\"\"\""
      ],
      "execution_count": 19,
      "outputs": [
        {
          "output_type": "stream",
          "text": [
            "Training label shape:  (60000,)\n",
            "First 5 training labels:  [5 0 4 1 9]\n"
          ],
          "name": "stdout"
        },
        {
          "output_type": "error",
          "ename": "AttributeError",
          "evalue": "ignored",
          "traceback": [
            "\u001b[0;31m---------------------------------------------------------------------------\u001b[0m",
            "\u001b[0;31mAttributeError\u001b[0m                            Traceback (most recent call last)",
            "\u001b[0;32m<ipython-input-19-8d921f6032be>\u001b[0m in \u001b[0;36m<module>\u001b[0;34m()\u001b[0m\n\u001b[1;32m      9\u001b[0m \u001b[0;31m# Convert to \"one-hot\" vectors using the to_categorical function\u001b[0m\u001b[0;34m\u001b[0m\u001b[0;34m\u001b[0m\u001b[0;34m\u001b[0m\u001b[0m\n\u001b[1;32m     10\u001b[0m \u001b[0mnum_classes\u001b[0m \u001b[0;34m=\u001b[0m \u001b[0;36m10\u001b[0m\u001b[0;34m\u001b[0m\u001b[0;34m\u001b[0m\u001b[0m\n\u001b[0;32m---> 11\u001b[0;31m \u001b[0my_train\u001b[0m \u001b[0;34m=\u001b[0m \u001b[0mkeras\u001b[0m\u001b[0;34m.\u001b[0m\u001b[0mutils\u001b[0m\u001b[0;34m.\u001b[0m\u001b[0mto_categorical\u001b[0m\u001b[0;34m(\u001b[0m\u001b[0my_train\u001b[0m\u001b[0;34m,\u001b[0m \u001b[0mnum_classes\u001b[0m\u001b[0;34m)\u001b[0m\u001b[0;34m\u001b[0m\u001b[0;34m\u001b[0m\u001b[0m\n\u001b[0m\u001b[1;32m     12\u001b[0m \u001b[0my_test\u001b[0m \u001b[0;34m=\u001b[0m \u001b[0mkeras\u001b[0m\u001b[0;34m.\u001b[0m\u001b[0mutils\u001b[0m\u001b[0;34m.\u001b[0m\u001b[0mto_categorical\u001b[0m\u001b[0;34m(\u001b[0m\u001b[0my_test\u001b[0m\u001b[0;34m,\u001b[0m \u001b[0mnum_classes\u001b[0m\u001b[0;34m)\u001b[0m\u001b[0;34m\u001b[0m\u001b[0;34m\u001b[0m\u001b[0m\n\u001b[1;32m     13\u001b[0m \u001b[0mprint\u001b[0m\u001b[0;34m(\u001b[0m\u001b[0;34m\"First 5 training lables as one-hot encoded vectors:\\n\"\u001b[0m\u001b[0;34m,\u001b[0m \u001b[0my_train\u001b[0m\u001b[0;34m[\u001b[0m\u001b[0;34m:\u001b[0m\u001b[0;36m5\u001b[0m\u001b[0;34m]\u001b[0m\u001b[0;34m)\u001b[0m\u001b[0;34m\u001b[0m\u001b[0;34m\u001b[0m\u001b[0m\n",
            "\u001b[0;31mAttributeError\u001b[0m: module 'keras.utils' has no attribute 'to_categorical'"
          ]
        }
      ]
    },
    {
      "cell_type": "code",
      "metadata": {
        "colab": {
          "base_uri": "https://localhost:8080/"
        },
        "id": "VpUs9C-22YsU",
        "outputId": "367cedea-94ee-4774-a001-3a9eee100a34"
      },
      "source": [
        "from keras.layers import Dense # Dense layers are \"fully connected\" layers\n",
        "from keras.models import Sequential # Documentation: https://keras.io/models/sequential/\n",
        "\n",
        "image_size = 784 # 28*28\n",
        "num_classes = 10 # ten unique digits\n",
        "\n",
        "model = Sequential()\n",
        "\n",
        "# The input layer requires the special input_shape parameter which should match\n",
        "# the shape of our training data.\n",
        "model.add(Dense(units=32, activation='sigmoid', input_shape=(image_size,)))\n",
        "model.add(Dense(units=num_classes, activation='softmax'))\n",
        "model.summary()\n"
      ],
      "execution_count": 14,
      "outputs": [
        {
          "output_type": "stream",
          "text": [
            "Model: \"sequential_6\"\n",
            "_________________________________________________________________\n",
            "Layer (type)                 Output Shape              Param #   \n",
            "=================================================================\n",
            "dense_12 (Dense)             (None, 32)                25120     \n",
            "_________________________________________________________________\n",
            "dense_13 (Dense)             (None, 10)                330       \n",
            "=================================================================\n",
            "Total params: 25,450\n",
            "Trainable params: 25,450\n",
            "Non-trainable params: 0\n",
            "_________________________________________________________________\n"
          ],
          "name": "stdout"
        }
      ]
    },
    {
      "cell_type": "code",
      "metadata": {
        "id": "IKbwVUSS2agK"
      },
      "source": [
        "def create_dense(layer_sizes):\n",
        "    model = Sequential()\n",
        "    model.add(Dense(layer_sizes[0], activation='sigmoid', input_shape=(image_size,)))\n",
        "\n",
        "    for s in layer_sizes[1:]:\n",
        "        model.add(Dense(units = s, activation = 'sigmoid'))\n",
        "\n",
        "    model.add(Dense(units=num_classes, activation='softmax'))\n",
        "    return model\n",
        "\n",
        "def evaluate(model, batch_size=128, epochs=5):\n",
        "    model.summary()\n",
        "    model.compile(optimizer='sgd', loss='categorical_crossentropy', metrics=['accuracy'])\n",
        "    history = model.fit(x_train, y_train, batch_size=batch_size, epochs=epochs, validation_split=.1, verbose=False)\n",
        "    loss, accuracy  = model.evaluate(x_test, y_test, verbose=False)\n",
        "    \n",
        "    plt.plot(history.history['acc'])\n",
        "    plt.plot(history.history['val_acc'])\n",
        "    plt.title('model accuracy')\n",
        "    plt.ylabel('accuracy')\n",
        "    plt.xlabel('epoch')\n",
        "    plt.legend(['training', 'validation'], loc='best')\n",
        "    plt.show()\n",
        "\n",
        "    print()\n",
        "    print(f'Test loss: {loss:.3}')\n",
        "    print(f'Test accuracy: {accuracy:.3}')\n",
        "    for layers in range(1, 5):\n",
        "      model = create_dense([32] * layers)\n",
        "      evaluate(model)\n",
        "    for nodes_per_layer in [32, 128, 512]:    \n",
        "      for layers in [3, 4, 5]:\n",
        "        model = create_dense([nodes_per_layer] * layers)\n",
        "        evaluate(model, epochs=10*layers)"
      ],
      "execution_count": 13,
      "outputs": []
    }
  ]
}